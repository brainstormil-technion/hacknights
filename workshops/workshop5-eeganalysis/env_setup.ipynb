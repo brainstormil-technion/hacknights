{
 "cells": [
  {
   "cell_type": "markdown",
   "id": "c20fc444-b612-496a-8662-be076ce394a2",
   "metadata": {},
   "source": [
    "## Environment installation for (basic) EEG analysis"
   ]
  },
  {
   "cell_type": "markdown",
   "id": "4aaefa8d-1bd1-46f2-bc05-6157eddd3a64",
   "metadata": {},
   "source": [
    "open or activate your python environment (use previous guides if needed).\n",
    "if you dont have any idea how to start, follow this instructions:"
   ]
  },
  {
   "cell_type": "markdown",
   "id": "79a336a0-f02f-4f32-91a2-ce4d77f961c9",
   "metadata": {},
   "source": [
    "1) installing anaconda: <br>\n",
    "https://docs.anaconda.com/anaconda/install/\n",
    "<br>\n",
    "\n",
    "2) Creating a new environment and installing spyder:\n",
    "    - start anaconda prompt (command line)\n",
    "    - type: \"conda create --name myenv\" and press enter (creates environment)\n",
    "    - type: \"conda activate myenv\" and press enter (activates environment)\n",
    "    <br> cheatsheet: https://conda.io/projects/conda/en/latest/user-guide/tasks/manage-environments.html#creating-an-environment-with-commands\n",
    "    - type: \"conda install pip\" and press enter (installs an installer called pip..)\n",
    "    - type: \"pip install spyder\" and press enter (the software you will work on)\n",
    "    <br> https://pypi.org/project/spyder/\n",
    "\n",
    "\n",
    "3) Installing depndencies\\packages:\n",
    "    - installation is triggered by \"pip install mypackage\" and enter\n",
    "    - install the following packages:\n",
    "        <br> a) numpy -> handles arrays and matrices\n",
    "        <br> b) mne -> eeg analysis\n",
    "        <br> c) matplotlib -> graphs plotting\n",
    "        <br> d) scikit-learn -> machine learning\n",
    "        \n",
    "4) Your'e almost there!\n",
    "    - Start spyder: \"spyder\"\n",
    "    - type: \"from mne.datasets import eegbci\" end enter\n",
    "    -   type:\n",
    "        <br>subject = 1\n",
    "        <br>runs = [6, 10, 14]  # motor imagery: hands vs feet\n",
    "        <br>raw_fnames = eegbci.load_data(subject, runs)\n",
    "        <br>\n",
    "        these lines will download the required EEG dataset to your system :-)\n",
    "        \n",
    "      \n",
    "5) See you soon..."
   ]
  }
 ],
 "metadata": {
  "kernelspec": {
   "display_name": "Python 3",
   "language": "python",
   "name": "python3"
  },
  "language_info": {
   "codemirror_mode": {
    "name": "ipython",
    "version": 3
   },
   "file_extension": ".py",
   "mimetype": "text/x-python",
   "name": "python",
   "nbconvert_exporter": "python",
   "pygments_lexer": "ipython3",
   "version": "3.8.11"
  }
 },
 "nbformat": 4,
 "nbformat_minor": 5
}
