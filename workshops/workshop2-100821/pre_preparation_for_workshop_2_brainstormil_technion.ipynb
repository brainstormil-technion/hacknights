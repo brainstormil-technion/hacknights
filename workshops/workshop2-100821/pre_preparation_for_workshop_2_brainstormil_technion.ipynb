{
  "nbformat": 4,
  "nbformat_minor": 0,
  "metadata": {
    "colab": {
      "name": "pre-preparation for workshop 2 - brainstormil technion.ipynb",
      "provenance": [],
      "collapsed_sections": [],
      "authorship_tag": "ABX9TyNwoLJjaDrBU8uUpzkfipWt",
      "include_colab_link": true
    },
    "kernelspec": {
      "name": "python3",
      "display_name": "Python 3"
    },
    "language_info": {
      "name": "python"
    }
  },
  "cells": [
    {
      "cell_type": "markdown",
      "metadata": {
        "id": "view-in-github",
        "colab_type": "text"
      },
      "source": [
        "<a href=\"https://colab.research.google.com/github/brainstormil-technion/hacknights/blob/main/workshops/workshop2-100821/pre_preparation_for_workshop_2_brainstormil_technion.ipynb\" target=\"_parent\"><img src=\"https://colab.research.google.com/assets/colab-badge.svg\" alt=\"Open In Colab\"/></a>"
      ]
    },
    {
      "cell_type": "markdown",
      "metadata": {
        "id": "II9MT4IuUw4d"
      },
      "source": [
        "# <img src=\"https://img.icons8.com/dusk/64/000000/mind-map.png\" style=\"height:50px;display:inline\"> Pre-preparation for Workshop 2 - BrainstormIL Technion\n",
        "\n",
        "### <img src=\"https://img.icons8.com/bubbles/50/000000/checklist.png\" style=\"height:50px;display:inline\"> Agenda\n",
        "\n",
        "* Installing a Working Environment\n",
        "* Starting Your Own git\n",
        "* Python Introduction (For a Total Beginner)\n",
        "\n",
        "#### Notes\n",
        "* To run a code block, select it (with mouse) and press Ctrl + Enter to run it or Shift + Enter to run it and move on to the next block.\n",
        "* To get description of functions and classes, run `help(name_of_function)`.\n",
        "* To dislplay lines in the code block, select the block, press ESC and then 'L'."
      ]
    },
    {
      "cell_type": "markdown",
      "metadata": {
        "id": "-6rBA_IaXKyP"
      },
      "source": [
        "### <img src=\"https://img.icons8.com/dusk/64/000000/handshake.png\" style=\"height:50px;display:inline\"> Installing a Working Environment\n",
        "We are going to work with *Visual Studio* for an easy getting started.\n"
      ]
    },
    {
      "cell_type": "markdown",
      "metadata": {
        "id": "pQ0cwl2kKmDM"
      },
      "source": [
        "*Visual Studio* allows you to:\n",
        "* Work with git directly \n",
        "* Run your code \n",
        "* Choose from different python environments \n",
        "* Install python library \n",
        "* Python syntax auto-complete"
      ]
    },
    {
      "cell_type": "markdown",
      "metadata": {
        "id": "s4rNX5IDKsjv"
      },
      "source": [
        "Before the workshop:\n",
        "1. Download and run the *Visual Studio 2019 - Community* installer. If you have Visual Studio installed already, run the Visual Studio Installer, select the Modify option (see Modify Visual Studio) and go to step 2.\n",
        "https://visualstudio.microsoft.com/downloads/\n",
        "2. The installer presents you with a list of workloads, which are groups of related options for specific development areas. Select the ***Python development*** workload.\n",
        "3. On the right side of the installer, chose additional options. **Make sure python 3 has been chosen.** (This step will install python on your computer)"
      ]
    },
    {
      "cell_type": "markdown",
      "metadata": {
        "id": "oZxVmY-CABWe"
      },
      "source": [
        "### <img src=\"https://img.icons8.com/office/80/000000/code-fork.png\" style=\"height:50px;display:inline\"> Collaborate on Github\n",
        "When working with a team it's important to work on sync at all times, this is the reason version control softwares have been invented.\n",
        "\n",
        "One of this version-control software is **git**.\n",
        "\n",
        "***Github*** is a website that offers to work with git mostly for the open-source community."
      ]
    },
    {
      "cell_type": "markdown",
      "metadata": {
        "id": "qulTmIuKKZ68"
      },
      "source": [
        "Before the workshop:\n",
        "1. Open a GitHub account, if you don't own one already.\n",
        "https://github.com/join\n",
        "2. **Only one of the team members** should create a new git project, which you all will interact with. \n",
        "https://docs.github.com/en/get-started/quickstart/create-a-repo\n",
        "3. Now, the same team member, go to **Settings->Manage access->invite a collaborator** and add all the other team members.\n",
        "4. Clone this git repository to your computer."
      ]
    },
    {
      "cell_type": "markdown",
      "metadata": {
        "id": "zRmp3OprKhxw"
      },
      "source": [
        "Congratulations! you have a new git project, for learning how to work with it, read more here\n",
        "https://product.hubspot.com/blog/git-and-github-tutorial-for-beginners"
      ]
    },
    {
      "cell_type": "markdown",
      "metadata": {
        "id": "25RrtRgUh8zT"
      },
      "source": [
        "## <img src=\"https://img.icons8.com/color/96/000000/transformer.png\" style=\"height:50px;display:inline\"> Python Introduction\n",
        "\n",
        "### **The following Python Introduction is for total beginners, if you already know python don't waste your time.**\n",
        "\n",
        "#### Why Python?\n",
        "* Works on different platforms (Windows, Mac, Linux, Raspberry Pi, etc).\n",
        "* Has a simple syntax.\n",
        "* Allows developers to write programs with fewer lines.\n",
        "* Python runs on an interpreter system, meaning that code can be executed as soon as it is written. This means that prototyping can be very quick.\n",
        "* A lot of open-source code already written in python, which you can benefit from.\n",
        "* Allows working with many different parts of the project."
      ]
    },
    {
      "cell_type": "code",
      "metadata": {
        "colab": {
          "base_uri": "https://localhost:8080/"
        },
        "id": "Ngx1rmzBksCM",
        "outputId": "0cd873d1-860b-41ea-b73e-1a9d7c40093e"
      },
      "source": [
        "print(\"Hello, Brainstorm!\")"
      ],
      "execution_count": null,
      "outputs": [
        {
          "output_type": "stream",
          "text": [
            "Hello, Brainstorm!\n"
          ],
          "name": "stdout"
        }
      ]
    },
    {
      "cell_type": "markdown",
      "metadata": {
        "id": "hH7ZmVEqlgUo"
      },
      "source": [
        "#### Python Indentation\n",
        "Indentation refers to the spaces at the beginning of a code line.\n",
        "Python uses indentation to indicate a block of code."
      ]
    },
    {
      "cell_type": "code",
      "metadata": {
        "id": "Ij9mWLDLluAB",
        "colab": {
          "base_uri": "https://localhost:8080/"
        },
        "outputId": "14e5c571-0121-4b88-cfc4-8820897d2c41"
      },
      "source": [
        "if 75 < 100:\n",
        "  print(\"About 75% of the brain is made up of water\")"
      ],
      "execution_count": 2,
      "outputs": [
        {
          "output_type": "stream",
          "text": [
            "About 75% of the brain is made up of water\n"
          ],
          "name": "stdout"
        }
      ]
    },
    {
      "cell_type": "markdown",
      "metadata": {
        "id": "El4oSdlSvCpQ"
      },
      "source": [
        "#### Comments\n",
        "Comments start with a #, and Python will render the rest of the line as a comment."
      ]
    },
    {
      "cell_type": "code",
      "metadata": {
        "colab": {
          "base_uri": "https://localhost:8080/"
        },
        "id": "8YQFJM7MvOlx",
        "outputId": "3229d285-aa54-42c6-83f5-2046796b54d4"
      },
      "source": [
        "#This is a comment.\n",
        "print(\"An adult brain weighs about 3 pounds\")"
      ],
      "execution_count": 3,
      "outputs": [
        {
          "output_type": "stream",
          "text": [
            "An adult brain weighs about 3 pounds\n"
          ],
          "name": "stdout"
        }
      ]
    },
    {
      "cell_type": "markdown",
      "metadata": {
        "id": "M9Y82EzXvdkn"
      },
      "source": [
        ""
      ]
    },
    {
      "cell_type": "markdown",
      "metadata": {
        "id": "SP0uZ642ug5_"
      },
      "source": [
        "#### Python Variables\n",
        "In Python, variables are created when you assign a value to it:"
      ]
    },
    {
      "cell_type": "code",
      "metadata": {
        "colab": {
          "base_uri": "https://localhost:8080/"
        },
        "id": "aiCa3RKDujbx",
        "outputId": "4ade51e7-258e-436e-eba4-6efe4bd56ca6"
      },
      "source": [
        "x = 5\n",
        "y = \"Multitasking is impossible in our brain\"\n",
        "print(x, y)"
      ],
      "execution_count": 1,
      "outputs": [
        {
          "output_type": "stream",
          "text": [
            "5 Multitasking is impossible in our brain\n"
          ],
          "name": "stdout"
        }
      ]
    },
    {
      "cell_type": "code",
      "metadata": {
        "id": "-3E8xPQ7vqvi"
      },
      "source": [
        "# Casting\n",
        "x = str(3)    # x will be '3'\n",
        "y = int(3)    # y will be 3\n",
        "z = float(3)  # z will be 3.0\n",
        "\n",
        "# Get the type of variable\n",
        "print(type(x))\n",
        "print(type(y))\n",
        "print(type(z))"
      ],
      "execution_count": null,
      "outputs": []
    },
    {
      "cell_type": "code",
      "metadata": {
        "id": "8gJre2Tcv3x_"
      },
      "source": [
        "# Case-Sensitive\n",
        "a = 4\n",
        "A = \"It is a myth that humans only use 10% of our brain\"\n",
        "#A will not overwrite a\n",
        "print(a, A)"
      ],
      "execution_count": null,
      "outputs": []
    },
    {
      "cell_type": "code",
      "metadata": {
        "id": "vCb2n3ITwVdU"
      },
      "source": [
        "# Now, try it youself, Create a variable named largest_part_of_the_brain and assign the value cortex to it.\n",
        "\n",
        "# ------your code here----- #"
      ],
      "execution_count": null,
      "outputs": []
    },
    {
      "cell_type": "markdown",
      "metadata": {
        "id": "1OZPL5iGxIas"
      },
      "source": [
        "#### Python Lists\n",
        "Lists are used to store multiple items in a single variable.\n",
        "\n",
        "Lists are created using square brackets [ ]"
      ]
    },
    {
      "cell_type": "code",
      "metadata": {
        "id": "-6cdG0a4xldq"
      },
      "source": [
        "dreams_combination_factors = ['imagination', 'physiological', 'neurological']\n",
        "print(dreams_combination_factors)"
      ],
      "execution_count": null,
      "outputs": []
    },
    {
      "cell_type": "code",
      "metadata": {
        "id": "3AP7rqyOyKOy"
      },
      "source": [
        "# List items are ordered, changeable, and allow duplicate values.\n",
        "# List items are indexed, the first item has index [0], the second item has index [1] etc.\n",
        "print(dreams_combination_factors[0])\n",
        "print(dreams_combination_factors[1])\n",
        "\n",
        "dreams_combination_factors[1] = 'physiological factors'\n",
        "print(dreams_combination_factors[1])"
      ],
      "execution_count": null,
      "outputs": []
    },
    {
      "cell_type": "code",
      "metadata": {
        "id": "s0tKnQtEy-_c"
      },
      "source": [
        "# swap 'imagination' with 'neurological'\n",
        "\n",
        "# ------your code here----- #"
      ],
      "execution_count": null,
      "outputs": []
    },
    {
      "cell_type": "code",
      "metadata": {
        "id": "CoLW4EfrzIcZ"
      },
      "source": [
        "# To add an item to the end of the list, use the append() method:\n",
        "dreams_combination_factors.append(5)\n",
        "dreams_combination_factors.append('etc')\n",
        "print(dreams_combination_factors)"
      ],
      "execution_count": null,
      "outputs": []
    },
    {
      "cell_type": "markdown",
      "metadata": {
        "id": "QNJ8pv-Szhub"
      },
      "source": [
        "#### Python If ... Else\n",
        "\n",
        "Python supports the usual logical conditions from mathematics:\n",
        "* Equals: a == b\n",
        "* Not Equals: a != b\n",
        "* Less than: a < b\n",
        "* Less than or equal to: a <= b\n",
        "* Greater than: a > b\n",
        "* Greater than or equal to: a >= b\n",
        "\n",
        "These conditions can be used in several ways, most commonly in \"if statements\" and loops.\n",
        "\n",
        "An \"if statement\" is written by using the if keyword."
      ]
    },
    {
      "cell_type": "code",
      "metadata": {
        "id": "3nKNWjo8zzNy"
      },
      "source": [
        "a = 33\n",
        "b = 200\n",
        "if b > a:\n",
        "  print(\"b is greater than a\")\n",
        "else:\n",
        "  print(\"b is smaller or equal to a\")"
      ],
      "execution_count": null,
      "outputs": []
    },
    {
      "cell_type": "code",
      "metadata": {
        "id": "Lul7gGGb3jkL"
      },
      "source": [
        "if True:\n",
        "  print(\"The human brain contains approximately 100 billion neurons\")"
      ],
      "execution_count": null,
      "outputs": []
    },
    {
      "cell_type": "code",
      "metadata": {
        "id": "3qt_kWhB5fUT"
      },
      "source": [
        "# Check if 100 billion is bigger then 100 millions\n",
        "\n",
        "# ------your code here----- #"
      ],
      "execution_count": null,
      "outputs": []
    },
    {
      "cell_type": "markdown",
      "metadata": {
        "id": "XKKyh1G95iHs"
      },
      "source": [
        "#### Python While Loops\n",
        "With the while loop we can execute a set of statements as long as a condition is true."
      ]
    },
    {
      "cell_type": "code",
      "metadata": {
        "id": "fw7555d_5quX"
      },
      "source": [
        "i = 0\n",
        "while i < 5:\n",
        "  print(i)\n",
        "  i += 1"
      ],
      "execution_count": null,
      "outputs": []
    },
    {
      "cell_type": "code",
      "metadata": {
        "id": "N-fn-XlI5xXe"
      },
      "source": [
        "is_your_brain_mostly_fat = True\n",
        "while is_your_brain_mostly_fat:\n",
        "  print('your brain consisting of minimum 60% fat')\n",
        "  break # so we don't get into an infinite loop"
      ],
      "execution_count": null,
      "outputs": []
    },
    {
      "cell_type": "code",
      "metadata": {
        "id": "Ddz0gnMg9OPk"
      },
      "source": [
        "# try it youself\n",
        "# ------your code here----- #"
      ],
      "execution_count": null,
      "outputs": []
    },
    {
      "cell_type": "markdown",
      "metadata": {
        "id": "ArwOQXUk6yfL"
      },
      "source": [
        "#### Python For Loops\n",
        "A for loop is used for iterating over a sequence (that is either a list, a tuple, a dictionary, a set, or a string).\n",
        "\n",
        "With the for loop we can execute a set of statements, once for each item in a list, tuple, set etc."
      ]
    },
    {
      "cell_type": "code",
      "metadata": {
        "colab": {
          "base_uri": "https://localhost:8080/"
        },
        "id": "Y-MpbukV67pQ",
        "outputId": "7c987d6b-3156-4415-bee1-394bf1842833"
      },
      "source": [
        "# Print each fruit in a fruit list:\n",
        "brain_facts = [\"Brain activity can power a small light bulb\", \"The visual areas of the brain are in the back\", \"The brain can’t feel pain\"]\n",
        "for fact in brain_facts:\n",
        "  print(fact)"
      ],
      "execution_count": 4,
      "outputs": [
        {
          "output_type": "stream",
          "text": [
            "Brain activity can power a small light bulb\n",
            "The visual areas of the brain are in the back\n",
            "The brain can’t feel pain\n"
          ],
          "name": "stdout"
        }
      ]
    },
    {
      "cell_type": "code",
      "metadata": {
        "id": "shsAob6i7l0z"
      },
      "source": [
        "# Even strings are iterable objects, they contain a sequence of characters:\n",
        "for x in \"Exercise is just as good for your brain as it is for your body\":\n",
        "  print(x)"
      ],
      "execution_count": null,
      "outputs": []
    },
    {
      "cell_type": "code",
      "metadata": {
        "colab": {
          "base_uri": "https://localhost:8080/"
        },
        "id": "41BgKjvv73YM",
        "outputId": "0ec59051-1070-4f14-eb1e-6fa082d0dbfe"
      },
      "source": [
        "# To loop through a set of code a specified number of times, we can use the range() function,\n",
        "# The range() function returns a sequence of numbers, starting from 0 by default, and increments by 1 (by default), and ends at a specified number.\n",
        "for x in range(6):\n",
        "  print(x)"
      ],
      "execution_count": 7,
      "outputs": [
        {
          "output_type": "stream",
          "text": [
            "0\n",
            "1\n",
            "2\n",
            "3\n",
            "4\n",
            "5\n"
          ],
          "name": "stdout"
        }
      ]
    },
    {
      "cell_type": "code",
      "metadata": {
        "id": "LV7BhAR77-u5"
      },
      "source": [
        "# We can also use range() function to iterate lists, for example, for editing them value\n",
        "n = len(brain_facts)\n",
        "for i in range(n):\n",
        "  print(i, brain_facts[i])\n",
        "  # edit value after index 1\n",
        "  if i >= 1:\n",
        "    brain_facts[i] = \"Sleep is imperative\"\n",
        "\n",
        "print(brain_facts)"
      ],
      "execution_count": null,
      "outputs": []
    },
    {
      "cell_type": "code",
      "metadata": {
        "id": "9JZpUHc49DKF"
      },
      "source": [
        "# try it youself\n",
        "# ------your code here----- #"
      ],
      "execution_count": null,
      "outputs": []
    },
    {
      "cell_type": "markdown",
      "metadata": {
        "id": "NLkFb-769P8A"
      },
      "source": [
        "#### Python Functions\n",
        "A function is a block of code which only runs when it is called.\n",
        "\n",
        "You can pass data, known as parameters, into a function.\n",
        "\n",
        "A function can return data as a result."
      ]
    },
    {
      "cell_type": "code",
      "metadata": {
        "id": "VuKNL1uC9X8m"
      },
      "source": [
        "# Set a new function\n",
        "def cholesterol_in_the_brain():\n",
        "  print(\"Cholesterol is key to learning and memory\")"
      ],
      "execution_count": null,
      "outputs": []
    },
    {
      "cell_type": "code",
      "metadata": {
        "id": "O5msrt729u2W"
      },
      "source": [
        "# Call the funcation\n",
        "cholesterol_in_the_brain()"
      ],
      "execution_count": null,
      "outputs": []
    },
    {
      "cell_type": "code",
      "metadata": {
        "id": "ZAiXt4lC925J"
      },
      "source": [
        "# Information can be passed into functions as arguments.\n",
        "# Arguments are specified after the function name, inside the parentheses. You can add as many arguments as you want, just separate them with a comma.\n",
        "\n",
        "def use_our_brain(percentage):\n",
        "  print(\"It is a myth that humans only use\" + str(percentage) + \"% of our brain\")\n",
        "\n",
        "use_our_brain(10)"
      ],
      "execution_count": null,
      "outputs": []
    },
    {
      "cell_type": "code",
      "metadata": {
        "colab": {
          "base_uri": "https://localhost:8080/"
        },
        "id": "XPHMnaJ1-dGp",
        "outputId": "916307d9-cca8-494f-fbfd-52aa1600a86f"
      },
      "source": [
        "# return a value\n",
        "def use_our_brain(percentage):\n",
        "  print(\"It is a myth that humans only use\" + str(percentage) + \"% of our brain\")\n",
        "  return 100\n",
        "\n",
        "result = use_our_brain(10)\n",
        "print(result)"
      ],
      "execution_count": 9,
      "outputs": [
        {
          "output_type": "stream",
          "text": [
            "It is a myth that humans only use10% of our brain\n",
            "100\n"
          ],
          "name": "stdout"
        }
      ]
    },
    {
      "cell_type": "code",
      "metadata": {
        "id": "0tMxy1VH_ewn"
      },
      "source": [
        "# try it youself\n",
        "# ------your code here----- #"
      ],
      "execution_count": null,
      "outputs": []
    }
  ]
}